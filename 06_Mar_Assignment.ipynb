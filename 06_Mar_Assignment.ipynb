{
 "cells": [
  {
   "cell_type": "markdown",
   "id": "40c4198e-f612-4683-bdf8-1fe9900808f1",
   "metadata": {},
   "source": [
    "Q1. What is Statistics?                                                                                        \n",
    "Statistics is the science concerned with developing and studying methods for collecting, analyzing, interpreting and presenting empirical data."
   ]
  },
  {
   "cell_type": "markdown",
   "id": "9d17776e-3b1b-4ac7-9a75-bcf815845fa3",
   "metadata": {},
   "source": [
    "Q2. Define the different types of statistics and give an example of when each type might be used.                      \n",
    "There are 2 types of statistics:                                                                          \n",
    "1. Descriptive statistics.                                                              \n",
    "example: find mean marks of a class.                                               \n",
    "2. Inferencial statistics.                                                \n",
    "example: Using sample heights collected from citizens of India conclude the heights of Indian citizens.             "
   ]
  },
  {
   "cell_type": "markdown",
   "id": "78c7b97c-0234-43a8-97d6-c94f775d8fd9",
   "metadata": {},
   "source": [
    "Q3.  What are the different types of data and how do they differ from each other? Provide an example of  each type of data.\n",
    "Discrete Data\n",
    "Nominal Data                                    \n",
    "\n",
    "Nominal data is a sub-category belonging to one of the types of qualitative information. Also known as the nominal scale, it is used to label the variables without providing the numerical value for them. Nominal data attributes can’t either be ordered or measured. The nominal data can be both qualitative and quantitative in nature. For instance, some of the nominal data attributes are letters, symbols or gender, etc.                                                     \n",
    "\n",
    "The examination of the nominal data is based on the usage of the grouping method. This method is based on the principle of the grouping of data into different categories. This is followed by the calculation of the frequency or the percentage of the data. The visualization of this data is done using the pie charts.                                        \n",
    "\n",
    "Examples:                                                                                                    \n",
    "\n",
    "Gender (Women, Men)                                                                                                           \n",
    "Eye color (Blue, Green, Brown)                                                                                               \n",
    "Hair color (Blonde, Brown, Brunette, Red, etc.)                                                                               \n",
    "Marital status (Married, Single)\n",
    "Religion (Muslim, Hindu, Christian)\n",
    "Ordinal Data\n",
    "\n",
    "Ordinal data/variable is the specific type of data that follows a natural order.  The difference between the data values is not determined in the case of nominal data. For instance, ordinal data variable is mostly found in surveys, economics, questionnaires, and finance operations. \n",
    "\n",
    "The examination of the nominal data is based on the usage of visualization tools. The visualization of this data is done using the bar chart. The ordinal data can be expressed in the form of tables which have each row corresponding to the distinct category.\n",
    "\n",
    "Examples:\n",
    "\n",
    "\n",
    "Feedback is recorded in the form of ratings from 1-10.\n",
    "Education level: elementary school, high school, college.                  \n",
    "Economic status: low, medium, and high.                             \n",
    "Letter grades: A, B, C, and etc.                                            \n",
    "Customer level of satisfaction: very satisfied, satisfied, neutral, dissatisfied, very dissatisfied.          \n",
    "\n",
    "Discrete data refers to the data values which can only attain certain specific values. Discrete data can’t attain a range of values. Discrete data can be represented using bar charts. For instance, ratings of a product made by the users can only be in discrete numbers.                                          \n",
    "\n",
    "Examples:                            \n",
    "\n",
    "The number of students in a class,                           \n",
    "The number of chips in a bag,                                 \n",
    "The number of stars in the sky                              \n",
    "Continuous Data                                             \n",
    "\n",
    "Continuous Data can contain values between a certain range that is within the highest and lowest values. The corresponding difference between the highest and lowest value of these intervals can be termed as the range of data. Continuous data can be tabulated in what is called a frequency distribution. The frequency distribution table can be computed for the range type of data. It can also be depicted using histograms. For example, the heights of the students in the class can be largely varying in nature, therefore, they can be divided into ranges to summarise the data.                               \n",
    "\n",
    "Examples:                               \n",
    "\n",
    "Height and weight of a student,                          \n",
    "Daily temperature recordings of a place                                \n",
    "Wind speed measurement                                              "
   ]
  },
  {
   "cell_type": "markdown",
   "id": "37edfe11-ede2-41ea-8df1-e2ebf1c2cbef",
   "metadata": {},
   "source": [
    "Q4. Categorise the following datasets with respect to quantitative and qualitative data types: \n",
    "(i) Grading in exam: A+, A, B+, B, C+, C, D, E.                                  \n",
    "=> qualitative data.                            \n",
    "(ii) Colour of mangoes: yellow, green, orange, red.                             \n",
    "=> qualitative data.                                             \n",
    "(iii) Height data of a class: [178.9, 179, 179.5, 176, 177.2, 178.3, 175.8,...].                         \n",
    "=>  quantitative data.                                       \n",
    "(iv) Number of mangoes exported by a farm: [500, 600, 478, 672, …].                                                 \n",
    "=>  quantitative data.\n"
   ]
  },
  {
   "cell_type": "markdown",
   "id": "6e679dd8-cdb0-487e-92d6-9bdb8aef20c6",
   "metadata": {},
   "source": [
    "Q5. Explain the concept of levels of measurement and give an example of a variable for each level.                \n",
    "Nominal: the data can only be categorized.                                                \n",
    "example:favourite color of people.                                                                   \n",
    "Ordinal: the data can be categorized and ranked.                                                \n",
    "example:reviews of people.                                                                  \n",
    "Interval: the data can be categorized, ranked, and evenly spaced.                                           \n",
    "example: Temperature variable.                                      \n",
    "Ratio: the data can be categorized, ranked, evenly spaced, and has a natural zero.                              \n",
    "example:students marks in a class.                                "
   ]
  },
  {
   "cell_type": "markdown",
   "id": "de189e19-f966-45ec-b3f6-295bf4827f1d",
   "metadata": {},
   "source": [
    "Q6. Why is it important to understand the level of measurement when analyzing data? Provide an  example to illustrate your answer.       \n",
    "First, knowing the level of measurement helps you decide how to interpret the data from that variable. When you know that a measure is nominal (like the one just described), then you know that the numerical values are just short codes for the longer names. Second, knowing the level of measurement helps you decide what statistical analysis is appropriate on the values that were assigned. If a measure is nominal, then you know that you would never average the data values or do a t-test on the data.\n",
    "\n",
    "There are typically four levels of measurement that are defined:                                       \n",
    "\n",
    "Nominal                          \n",
    "Ordinal                                 \n",
    "Interval                                          \n",
    "Ratio                                                                      \n",
    "In nominal measurement the numerical values just “name” the attribute uniquely. No ordering of the cases is implied. For example, jersey numbers in basketball are measures at the nominal level. A player with number 30 is not more of anything than a player with number 15, and is certainly not twice whatever number 15 is.                                         \n",
    "\n",
    "In ordinal measurement the attributes can be rank-ordered. Here, distances between attributes do not have any meaning. For example, on a survey you might code Educational Attainment as 0=less than high school; 1=some high school.; 2=high school degree; 3=some college; 4=college degree; 5=post college. In this measure, higher numbers mean more education. But is distance from 0 to 1 same as 3 to 4? Of course not. The interval between values is not interpretable in an ordinal measure.      \n",
    " \n",
    "\n",
    "In interval measurement the distance between attributes does have meaning. For example, when we measure temperature (in Fahrenheit), the distance from 30-40 is same as distance from 70-80. The interval between values is interpretable. Because of this, it makes sense to compute an average of an interval variable, where it doesn’t make sense to do so for ordinal scales. But note that in interval measurement ratios don’t make any sense - 80 degrees is not twice as hot as 40 degrees (although the attribute value is twice as large).                                                                        \n",
    "\n",
    "Finally, in ratio measurement there is always an absolute zero that is meaningful. This means that you can construct a meaningful fraction (or ratio) with a ratio variable. Weight is a ratio variable. In applied social research most “count” variables are ratio, for example, the number of clients in past six months. Why? Because you can have zero clients and because it is meaningful to say that “…we had twice as many clients in the past six months as we did in the previous six months.”"
   ]
  },
  {
   "cell_type": "markdown",
   "id": "db105804-a0f1-4983-a6d5-b111a6a599b4",
   "metadata": {},
   "source": [
    "Q7. How nominal data type is different from ordinal data type.                                             \n",
    "=> In nominal data order does not matter whereas in ordinal data order matters."
   ]
  },
  {
   "cell_type": "markdown",
   "id": "d17abc05-2e01-49de-ad27-6599be8bbb74",
   "metadata": {},
   "source": [
    "Q8. Which type of plot can be used to display data in terms of range?                                  \n",
    "A Range chart displays sets of data points, each of which is defined by multiple values for the same category, and emphasizes the distance between the two values."
   ]
  },
  {
   "cell_type": "markdown",
   "id": "900dd9fe-2544-4323-a231-29bd15714956",
   "metadata": {},
   "source": [
    "Q9. Describe the difference between descriptive and inferential statistics. Give an example of each  type of statistics and explain how they are used.                                              \n",
    "Descriptive Statistics gives information about raw data regarding its description or features. Inferential statistics, on the other hand, draw inferences about the population by using data extracted from the population.\n",
    "1. Descriptive statistics.                                        \n",
    "example : find mean marks of a class.                                     \n",
    "2. Inferencial statistics.                                         \n",
    "example : Using sample heights collected from citizens of India conclude the heights of Indian citizens.               "
   ]
  },
  {
   "cell_type": "markdown",
   "id": "888d24f0-5388-4ed5-9204-3ef50f1cf18b",
   "metadata": {},
   "source": [
    "Q10. What are some common measures of central tendency and variability used in statistics? Explain  how each measure can be used to describe a dataset.                            \n",
    "1. Mean.                                         \n",
    "The mean is the arithmetic average, and it is probably the measure of central tendency that you are most familiar. Calculating the mean is very simple. You just add up all of the values and divide by the number of observations in your dataset.     \n",
    "2. Median.                             \n",
    "The median is the middle value. It is the value that splits the dataset in half, making it a natural measure of central tendency.                                     \n",
    "3. Mode.                \n",
    "The mode is the value that occurs the most frequently in your data set, making it a different type of measure of central tendency than the mean or median.\n",
    "Range: the difference between the highest and lowest values.                                           \n",
    "Interquartile range: the range of the middle half of a distribution.                                      \n",
    "Standard deviation: average distance from the mean.                                                             \n",
    "Variance: average of squared distances from the mean."
   ]
  },
  {
   "cell_type": "code",
   "execution_count": null,
   "id": "88445966-49d3-48a5-97ff-b296200e787c",
   "metadata": {},
   "outputs": [],
   "source": []
  }
 ],
 "metadata": {
  "kernelspec": {
   "display_name": "Python 3 (ipykernel)",
   "language": "python",
   "name": "python3"
  },
  "language_info": {
   "codemirror_mode": {
    "name": "ipython",
    "version": 3
   },
   "file_extension": ".py",
   "mimetype": "text/x-python",
   "name": "python",
   "nbconvert_exporter": "python",
   "pygments_lexer": "ipython3",
   "version": "3.10.8"
  }
 },
 "nbformat": 4,
 "nbformat_minor": 5
}
